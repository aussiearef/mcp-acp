{
 "cells": [
  {
   "cell_type": "markdown",
   "id": "871ab273",
   "metadata": {},
   "source": [
    "\n",
    "# Lab 1B: MCP Sampling (Server requests LLM via Client)\n",
    "\n",
    "**Goal:** Demonstrate MCP *Sampling* by having an MCP server tool call `ctx.sample(...)` to ask the *client* for an LLM completion.  \n",
    "In this lab, we **don't use external APIs**. Instead, the client implements a simple `sampling_handler` that returns a mock \"summary\".\n",
    "\n",
    "**How it works:**\n",
    "1. **Cell 1** starts a Streamable HTTP FastMCP server with a tool `SummarizeWithSampling(text, temperature)`.\n",
    "2. The tool uses `ctx.sample(...)` to request a completion from the *client*.\n",
    "3. **Cell 2** runs a FastMCP **Client** that supplies a `sampling_handler` (our mock LLM), connects to `http://127.0.0.1:8000/mcp/`, calls the tool, and asserts the result.\n",
    "\n",
    "> If you restarted the kernel, re-run Cell 1 before Cell 2.\n"
   ]
  },
  {
   "cell_type": "code",
   "execution_count": 1,
   "id": "329bd8ff-c946-4912-b1d2-1d0e51e8e681",
   "metadata": {},
   "outputs": [
    {
     "name": "stdout",
     "output_type": "stream",
     "text": [
      "Note: you may need to restart the kernel to use updated packages.\n"
     ]
    }
   ],
   "source": [
    "%pip install -q mcp fastmcp "
   ]
  },
  {
   "cell_type": "code",
   "execution_count": 2,
   "id": "f3aae75d",
   "metadata": {},
   "outputs": [
    {
     "name": "stderr",
     "output_type": "stream",
     "text": [
      "INFO:     Started server process [31321]\n",
      "INFO:     Waiting for application startup.\n"
     ]
    },
    {
     "name": "stdout",
     "output_type": "stream",
     "text": [
      "Server running at http://localhost:5000\n"
     ]
    },
    {
     "data": {
      "text/html": [
       "<pre style=\"white-space:pre;overflow-x:auto;line-height:normal;font-family:Menlo,'DejaVu Sans Mono',consolas,'Courier New',monospace\"><span style=\"color: #7fbfbf; text-decoration-color: #7fbfbf\">[08/11/25 08:09:23] </span><span style=\"color: #000080; text-decoration-color: #000080\">INFO    </span> StreamableHTTP session manager started                  <a href=\"file:///Users/aref/miniconda3/lib/python3.11/site-packages/mcp/server/streamable_http_manager.py\" target=\"_blank\"><span style=\"color: #7f7f7f; text-decoration-color: #7f7f7f\">streamable_http_manager.py</span></a><span style=\"color: #7f7f7f; text-decoration-color: #7f7f7f\">:</span><a href=\"file:///Users/aref/miniconda3/lib/python3.11/site-packages/mcp/server/streamable_http_manager.py#112\" target=\"_blank\"><span style=\"color: #7f7f7f; text-decoration-color: #7f7f7f\">112</span></a>\n",
       "</pre>\n"
      ],
      "text/plain": [
       "\u001b[2;36m[08/11/25 08:09:23]\u001b[0m\u001b[2;36m \u001b[0m\u001b[34mINFO    \u001b[0m StreamableHTTP session manager started                  \u001b]8;id=410428;file:///Users/aref/miniconda3/lib/python3.11/site-packages/mcp/server/streamable_http_manager.py\u001b\\\u001b[2mstreamable_http_manager.py\u001b[0m\u001b]8;;\u001b\\\u001b[2m:\u001b[0m\u001b]8;id=540776;file:///Users/aref/miniconda3/lib/python3.11/site-packages/mcp/server/streamable_http_manager.py#112\u001b\\\u001b[2m112\u001b[0m\u001b]8;;\u001b\\\n"
      ]
     },
     "metadata": {},
     "output_type": "display_data"
    },
    {
     "name": "stderr",
     "output_type": "stream",
     "text": [
      "INFO:     Application startup complete.\n",
      "INFO:     Uvicorn running on http://127.0.0.1:8000 (Press CTRL+C to quit)\n"
     ]
    },
    {
     "name": "stdout",
     "output_type": "stream",
     "text": [
      "INFO:     127.0.0.1:62516 - \"GET / HTTP/1.1\" 404 Not Found\n",
      "INFO:     127.0.0.1:62519 - \"POST /mcp HTTP/1.1\" 307 Temporary Redirect\n",
      "INFO:     127.0.0.1:62519 - \"POST /mcp/ HTTP/1.1\" 200 OK\n",
      "INFO:     127.0.0.1:62520 - \"POST /mcp HTTP/1.1\" 307 Temporary Redirect\n",
      "INFO:     127.0.0.1:62521 - \"GET /mcp HTTP/1.1\" 307 Temporary Redirect\n",
      "INFO:     127.0.0.1:62520 - \"POST /mcp/ HTTP/1.1\" 202 Accepted\n",
      "INFO:     127.0.0.1:62521 - \"GET /mcp/ HTTP/1.1\" 200 OK\n",
      "INFO:     127.0.0.1:62522 - \"POST /mcp HTTP/1.1\" 307 Temporary Redirect\n",
      "INFO:     127.0.0.1:62522 - \"POST /mcp/ HTTP/1.1\" 200 OK\n",
      "INFO:     127.0.0.1:62523 - \"POST /mcp HTTP/1.1\" 307 Temporary Redirect\n",
      "INFO:     127.0.0.1:62523 - \"POST /mcp/ HTTP/1.1\" 200 OK\n",
      "INFO:     127.0.0.1:62524 - \"POST /mcp HTTP/1.1\" 307 Temporary Redirect\n",
      "INFO:     127.0.0.1:62524 - \"POST /mcp/ HTTP/1.1\" 202 Accepted\n",
      "INFO:     127.0.0.1:62525 - \"DELETE /mcp HTTP/1.1\" 307 Temporary Redirect\n",
      "INFO:     127.0.0.1:62525 - \"DELETE /mcp/ HTTP/1.1\" 200 OK\n"
     ]
    }
   ],
   "source": [
    "# Jupyter cell — SERVER (runs in background)\n",
    "# If it’s a fresh kernel, run once: %pip install -q mcp fastmcp\n",
    "\n",
    "import asyncio, contextlib\n",
    "from mcp.server.fastmcp import Context, FastMCP\n",
    "from mcp.types import SamplingMessage, TextContent\n",
    "\n",
    "# cancel any prior server task if you re-run the cell\n",
    "with contextlib.suppress(NameError, asyncio.CancelledError):\n",
    "    server_task.cancel()\n",
    "    await asyncio.sleep(0)\n",
    "\n",
    "mcp = FastMCP(name=\"Sampling Keywords\")\n",
    "\n",
    "@mcp.tool()\n",
    "async def extract_keywords(text: str, k: int = 5, ctx: Context = None) -> str:\n",
    "    \"\"\"\n",
    "    Ask the client (via Sampling) to extract top-k keywords from `text`.\n",
    "    Expected client response: comma-separated, lowercase keywords (no duplicates).\n",
    "    \"\"\"\n",
    "    assert ctx is not None, \"Sampling context missing\"\n",
    "\n",
    "    prompt = (\n",
    "        f\"Extract the top {int(k)} keywords from the following text.\\n\"\n",
    "        \"Rules: lowercase, comma-separated, no duplicates, no extra words.\\n\\n\"\n",
    "        f\"TEXT:\\n{text}\"\n",
    "    )\n",
    "\n",
    "    result = await ctx.session.create_message(\n",
    "        messages=[SamplingMessage(role=\"user\", content=TextContent(type=\"text\", text=prompt))],\n",
    "        max_tokens=100,\n",
    "    )\n",
    "\n",
    "    if getattr(result.content, \"type\", \"\") == \"text\":\n",
    "        return result.content.text\n",
    "    return str(result.content)\n",
    "\n",
    "\n",
    "async def _run():\n",
    "    await mcp.run_streamable_http_async()\n",
    "\n",
    "server_task = asyncio.create_task(_run())\n",
    "print(\"Server running at http://localhost:5000\")\n"
   ]
  },
  {
   "cell_type": "code",
   "execution_count": 3,
   "id": "3c2d0f10",
   "metadata": {},
   "outputs": [
    {
     "data": {
      "text/html": [
       "<pre style=\"white-space:pre;overflow-x:auto;line-height:normal;font-family:Menlo,'DejaVu Sans Mono',consolas,'Courier New',monospace\"><span style=\"color: #7fbfbf; text-decoration-color: #7fbfbf\">[08/11/25 08:09:33] </span><span style=\"color: #000080; text-decoration-color: #000080\">INFO    </span> HTTP Request: <span style=\"color: #808000; text-decoration-color: #808000; font-weight: bold\">POST</span> <span style=\"color: #0000ff; text-decoration-color: #0000ff; text-decoration: underline\">http://127.0.0.1:8000/mcp</span> <span style=\"color: #008000; text-decoration-color: #008000\">\"HTTP/1.1 307 Temporary </span>  <a href=\"file:///Users/aref/miniconda3/lib/python3.11/site-packages/httpx/_client.py\" target=\"_blank\"><span style=\"color: #7f7f7f; text-decoration-color: #7f7f7f\">_client.py</span></a><span style=\"color: #7f7f7f; text-decoration-color: #7f7f7f\">:</span><a href=\"file:///Users/aref/miniconda3/lib/python3.11/site-packages/httpx/_client.py#1740\" target=\"_blank\"><span style=\"color: #7f7f7f; text-decoration-color: #7f7f7f\">1740</span></a>\n",
       "<span style=\"color: #7fbfbf; text-decoration-color: #7fbfbf\">                    </span>         <span style=\"color: #008000; text-decoration-color: #008000\">Redirect\"</span>                                                              <span style=\"color: #7f7f7f; text-decoration-color: #7f7f7f\">               </span>\n",
       "</pre>\n"
      ],
      "text/plain": [
       "\u001b[2;36m[08/11/25 08:09:33]\u001b[0m\u001b[2;36m \u001b[0m\u001b[34mINFO    \u001b[0m HTTP Request: \u001b[1;33mPOST\u001b[0m \u001b[4;94mhttp://127.0.0.1:8000/mcp\u001b[0m \u001b[32m\"HTTP/1.1 307 Temporary \u001b[0m  \u001b]8;id=1574;file:///Users/aref/miniconda3/lib/python3.11/site-packages/httpx/_client.py\u001b\\\u001b[2m_client.py\u001b[0m\u001b]8;;\u001b\\\u001b[2m:\u001b[0m\u001b]8;id=146644;file:///Users/aref/miniconda3/lib/python3.11/site-packages/httpx/_client.py#1740\u001b\\\u001b[2m1740\u001b[0m\u001b]8;;\u001b\\\n",
       "\u001b[2;36m                    \u001b[0m         \u001b[32mRedirect\"\u001b[0m                                                              \u001b[2m               \u001b[0m\n"
      ]
     },
     "metadata": {},
     "output_type": "display_data"
    },
    {
     "data": {
      "text/html": [
       "<pre style=\"white-space:pre;overflow-x:auto;line-height:normal;font-family:Menlo,'DejaVu Sans Mono',consolas,'Courier New',monospace\"><span style=\"color: #7fbfbf; text-decoration-color: #7fbfbf\">                    </span><span style=\"color: #000080; text-decoration-color: #000080\">INFO    </span> Created new transport with session ID:                  <a href=\"file:///Users/aref/miniconda3/lib/python3.11/site-packages/mcp/server/streamable_http_manager.py\" target=\"_blank\"><span style=\"color: #7f7f7f; text-decoration-color: #7f7f7f\">streamable_http_manager.py</span></a><span style=\"color: #7f7f7f; text-decoration-color: #7f7f7f\">:</span><a href=\"file:///Users/aref/miniconda3/lib/python3.11/site-packages/mcp/server/streamable_http_manager.py#229\" target=\"_blank\"><span style=\"color: #7f7f7f; text-decoration-color: #7f7f7f\">229</span></a>\n",
       "<span style=\"color: #7fbfbf; text-decoration-color: #7fbfbf\">                    </span>         64b79804521046f196d0c163581a3668                        <span style=\"color: #7f7f7f; text-decoration-color: #7f7f7f\">                              </span>\n",
       "</pre>\n"
      ],
      "text/plain": [
       "\u001b[2;36m                   \u001b[0m\u001b[2;36m \u001b[0m\u001b[34mINFO    \u001b[0m Created new transport with session ID:                  \u001b]8;id=616847;file:///Users/aref/miniconda3/lib/python3.11/site-packages/mcp/server/streamable_http_manager.py\u001b\\\u001b[2mstreamable_http_manager.py\u001b[0m\u001b]8;;\u001b\\\u001b[2m:\u001b[0m\u001b]8;id=39962;file:///Users/aref/miniconda3/lib/python3.11/site-packages/mcp/server/streamable_http_manager.py#229\u001b\\\u001b[2m229\u001b[0m\u001b]8;;\u001b\\\n",
       "\u001b[2;36m                    \u001b[0m         64b79804521046f196d0c163581a3668                        \u001b[2m                              \u001b[0m\n"
      ]
     },
     "metadata": {},
     "output_type": "display_data"
    },
    {
     "data": {
      "text/html": [
       "<pre style=\"white-space:pre;overflow-x:auto;line-height:normal;font-family:Menlo,'DejaVu Sans Mono',consolas,'Courier New',monospace\"><span style=\"color: #7fbfbf; text-decoration-color: #7fbfbf\">                    </span><span style=\"color: #000080; text-decoration-color: #000080\">INFO    </span> HTTP Request: <span style=\"color: #808000; text-decoration-color: #808000; font-weight: bold\">POST</span> <span style=\"color: #0000ff; text-decoration-color: #0000ff; text-decoration: underline\">http://127.0.0.1:8000/mcp/</span> <span style=\"color: #008000; text-decoration-color: #008000\">\"HTTP/1.1 200 OK\"</span>        <a href=\"file:///Users/aref/miniconda3/lib/python3.11/site-packages/httpx/_client.py\" target=\"_blank\"><span style=\"color: #7f7f7f; text-decoration-color: #7f7f7f\">_client.py</span></a><span style=\"color: #7f7f7f; text-decoration-color: #7f7f7f\">:</span><a href=\"file:///Users/aref/miniconda3/lib/python3.11/site-packages/httpx/_client.py#1740\" target=\"_blank\"><span style=\"color: #7f7f7f; text-decoration-color: #7f7f7f\">1740</span></a>\n",
       "</pre>\n"
      ],
      "text/plain": [
       "\u001b[2;36m                   \u001b[0m\u001b[2;36m \u001b[0m\u001b[34mINFO    \u001b[0m HTTP Request: \u001b[1;33mPOST\u001b[0m \u001b[4;94mhttp://127.0.0.1:8000/mcp/\u001b[0m \u001b[32m\"HTTP/1.1 200 OK\"\u001b[0m        \u001b]8;id=812473;file:///Users/aref/miniconda3/lib/python3.11/site-packages/httpx/_client.py\u001b\\\u001b[2m_client.py\u001b[0m\u001b]8;;\u001b\\\u001b[2m:\u001b[0m\u001b]8;id=857485;file:///Users/aref/miniconda3/lib/python3.11/site-packages/httpx/_client.py#1740\u001b\\\u001b[2m1740\u001b[0m\u001b]8;;\u001b\\\n"
      ]
     },
     "metadata": {},
     "output_type": "display_data"
    },
    {
     "data": {
      "text/html": [
       "<pre style=\"white-space:pre;overflow-x:auto;line-height:normal;font-family:Menlo,'DejaVu Sans Mono',consolas,'Courier New',monospace\"><span style=\"color: #7fbfbf; text-decoration-color: #7fbfbf\">                    </span><span style=\"color: #000080; text-decoration-color: #000080\">INFO    </span> Received session ID: 64b79804521046f196d0c163581a3668           <a href=\"file:///Users/aref/miniconda3/lib/python3.11/site-packages/mcp/client/streamable_http.py\" target=\"_blank\"><span style=\"color: #7f7f7f; text-decoration-color: #7f7f7f\">streamable_http.py</span></a><span style=\"color: #7f7f7f; text-decoration-color: #7f7f7f\">:</span><a href=\"file:///Users/aref/miniconda3/lib/python3.11/site-packages/mcp/client/streamable_http.py#134\" target=\"_blank\"><span style=\"color: #7f7f7f; text-decoration-color: #7f7f7f\">134</span></a>\n",
       "</pre>\n"
      ],
      "text/plain": [
       "\u001b[2;36m                   \u001b[0m\u001b[2;36m \u001b[0m\u001b[34mINFO    \u001b[0m Received session ID: 64b79804521046f196d0c163581a3668           \u001b]8;id=554422;file:///Users/aref/miniconda3/lib/python3.11/site-packages/mcp/client/streamable_http.py\u001b\\\u001b[2mstreamable_http.py\u001b[0m\u001b]8;;\u001b\\\u001b[2m:\u001b[0m\u001b]8;id=910929;file:///Users/aref/miniconda3/lib/python3.11/site-packages/mcp/client/streamable_http.py#134\u001b\\\u001b[2m134\u001b[0m\u001b]8;;\u001b\\\n"
      ]
     },
     "metadata": {},
     "output_type": "display_data"
    },
    {
     "data": {
      "text/html": [
       "<pre style=\"white-space:pre;overflow-x:auto;line-height:normal;font-family:Menlo,'DejaVu Sans Mono',consolas,'Courier New',monospace\"><span style=\"color: #7fbfbf; text-decoration-color: #7fbfbf\">                    </span><span style=\"color: #000080; text-decoration-color: #000080\">INFO    </span> Negotiated protocol version: <span style=\"color: #008080; text-decoration-color: #008080; font-weight: bold\">2025</span>-<span style=\"color: #008080; text-decoration-color: #008080; font-weight: bold\">06</span>-<span style=\"color: #008080; text-decoration-color: #008080; font-weight: bold\">18</span>                         <a href=\"file:///Users/aref/miniconda3/lib/python3.11/site-packages/mcp/client/streamable_http.py\" target=\"_blank\"><span style=\"color: #7f7f7f; text-decoration-color: #7f7f7f\">streamable_http.py</span></a><span style=\"color: #7f7f7f; text-decoration-color: #7f7f7f\">:</span><a href=\"file:///Users/aref/miniconda3/lib/python3.11/site-packages/mcp/client/streamable_http.py#146\" target=\"_blank\"><span style=\"color: #7f7f7f; text-decoration-color: #7f7f7f\">146</span></a>\n",
       "</pre>\n"
      ],
      "text/plain": [
       "\u001b[2;36m                   \u001b[0m\u001b[2;36m \u001b[0m\u001b[34mINFO    \u001b[0m Negotiated protocol version: \u001b[1;36m2025\u001b[0m-\u001b[1;36m06\u001b[0m-\u001b[1;36m18\u001b[0m                         \u001b]8;id=185487;file:///Users/aref/miniconda3/lib/python3.11/site-packages/mcp/client/streamable_http.py\u001b\\\u001b[2mstreamable_http.py\u001b[0m\u001b]8;;\u001b\\\u001b[2m:\u001b[0m\u001b]8;id=628727;file:///Users/aref/miniconda3/lib/python3.11/site-packages/mcp/client/streamable_http.py#146\u001b\\\u001b[2m146\u001b[0m\u001b]8;;\u001b\\\n"
      ]
     },
     "metadata": {},
     "output_type": "display_data"
    },
    {
     "data": {
      "text/html": [
       "<pre style=\"white-space:pre;overflow-x:auto;line-height:normal;font-family:Menlo,'DejaVu Sans Mono',consolas,'Courier New',monospace\"><span style=\"color: #7fbfbf; text-decoration-color: #7fbfbf\">                    </span><span style=\"color: #000080; text-decoration-color: #000080\">INFO    </span> HTTP Request: <span style=\"color: #808000; text-decoration-color: #808000; font-weight: bold\">POST</span> <span style=\"color: #0000ff; text-decoration-color: #0000ff; text-decoration: underline\">http://127.0.0.1:8000/mcp</span> <span style=\"color: #008000; text-decoration-color: #008000\">\"HTTP/1.1 307 Temporary </span>  <a href=\"file:///Users/aref/miniconda3/lib/python3.11/site-packages/httpx/_client.py\" target=\"_blank\"><span style=\"color: #7f7f7f; text-decoration-color: #7f7f7f\">_client.py</span></a><span style=\"color: #7f7f7f; text-decoration-color: #7f7f7f\">:</span><a href=\"file:///Users/aref/miniconda3/lib/python3.11/site-packages/httpx/_client.py#1740\" target=\"_blank\"><span style=\"color: #7f7f7f; text-decoration-color: #7f7f7f\">1740</span></a>\n",
       "<span style=\"color: #7fbfbf; text-decoration-color: #7fbfbf\">                    </span>         <span style=\"color: #008000; text-decoration-color: #008000\">Redirect\"</span>                                                              <span style=\"color: #7f7f7f; text-decoration-color: #7f7f7f\">               </span>\n",
       "</pre>\n"
      ],
      "text/plain": [
       "\u001b[2;36m                   \u001b[0m\u001b[2;36m \u001b[0m\u001b[34mINFO    \u001b[0m HTTP Request: \u001b[1;33mPOST\u001b[0m \u001b[4;94mhttp://127.0.0.1:8000/mcp\u001b[0m \u001b[32m\"HTTP/1.1 307 Temporary \u001b[0m  \u001b]8;id=420022;file:///Users/aref/miniconda3/lib/python3.11/site-packages/httpx/_client.py\u001b\\\u001b[2m_client.py\u001b[0m\u001b]8;;\u001b\\\u001b[2m:\u001b[0m\u001b]8;id=227798;file:///Users/aref/miniconda3/lib/python3.11/site-packages/httpx/_client.py#1740\u001b\\\u001b[2m1740\u001b[0m\u001b]8;;\u001b\\\n",
       "\u001b[2;36m                    \u001b[0m         \u001b[32mRedirect\"\u001b[0m                                                              \u001b[2m               \u001b[0m\n"
      ]
     },
     "metadata": {},
     "output_type": "display_data"
    },
    {
     "data": {
      "text/html": [
       "<pre style=\"white-space:pre;overflow-x:auto;line-height:normal;font-family:Menlo,'DejaVu Sans Mono',consolas,'Courier New',monospace\"><span style=\"color: #7fbfbf; text-decoration-color: #7fbfbf\">                    </span><span style=\"color: #000080; text-decoration-color: #000080\">INFO    </span> HTTP Request: <span style=\"color: #808000; text-decoration-color: #808000; font-weight: bold\">GET</span> <span style=\"color: #0000ff; text-decoration-color: #0000ff; text-decoration: underline\">http://127.0.0.1:8000/mcp</span> <span style=\"color: #008000; text-decoration-color: #008000\">\"HTTP/1.1 307 Temporary </span>   <a href=\"file:///Users/aref/miniconda3/lib/python3.11/site-packages/httpx/_client.py\" target=\"_blank\"><span style=\"color: #7f7f7f; text-decoration-color: #7f7f7f\">_client.py</span></a><span style=\"color: #7f7f7f; text-decoration-color: #7f7f7f\">:</span><a href=\"file:///Users/aref/miniconda3/lib/python3.11/site-packages/httpx/_client.py#1740\" target=\"_blank\"><span style=\"color: #7f7f7f; text-decoration-color: #7f7f7f\">1740</span></a>\n",
       "<span style=\"color: #7fbfbf; text-decoration-color: #7fbfbf\">                    </span>         <span style=\"color: #008000; text-decoration-color: #008000\">Redirect\"</span>                                                              <span style=\"color: #7f7f7f; text-decoration-color: #7f7f7f\">               </span>\n",
       "</pre>\n"
      ],
      "text/plain": [
       "\u001b[2;36m                   \u001b[0m\u001b[2;36m \u001b[0m\u001b[34mINFO    \u001b[0m HTTP Request: \u001b[1;33mGET\u001b[0m \u001b[4;94mhttp://127.0.0.1:8000/mcp\u001b[0m \u001b[32m\"HTTP/1.1 307 Temporary \u001b[0m   \u001b]8;id=875804;file:///Users/aref/miniconda3/lib/python3.11/site-packages/httpx/_client.py\u001b\\\u001b[2m_client.py\u001b[0m\u001b]8;;\u001b\\\u001b[2m:\u001b[0m\u001b]8;id=623102;file:///Users/aref/miniconda3/lib/python3.11/site-packages/httpx/_client.py#1740\u001b\\\u001b[2m1740\u001b[0m\u001b]8;;\u001b\\\n",
       "\u001b[2;36m                    \u001b[0m         \u001b[32mRedirect\"\u001b[0m                                                              \u001b[2m               \u001b[0m\n"
      ]
     },
     "metadata": {},
     "output_type": "display_data"
    },
    {
     "data": {
      "text/html": [
       "<pre style=\"white-space:pre;overflow-x:auto;line-height:normal;font-family:Menlo,'DejaVu Sans Mono',consolas,'Courier New',monospace\"><span style=\"color: #7fbfbf; text-decoration-color: #7fbfbf\">                    </span><span style=\"color: #000080; text-decoration-color: #000080\">INFO    </span> HTTP Request: <span style=\"color: #808000; text-decoration-color: #808000; font-weight: bold\">POST</span> <span style=\"color: #0000ff; text-decoration-color: #0000ff; text-decoration: underline\">http://127.0.0.1:8000/mcp/</span> <span style=\"color: #008000; text-decoration-color: #008000\">\"HTTP/1.1 202 Accepted\"</span>  <a href=\"file:///Users/aref/miniconda3/lib/python3.11/site-packages/httpx/_client.py\" target=\"_blank\"><span style=\"color: #7f7f7f; text-decoration-color: #7f7f7f\">_client.py</span></a><span style=\"color: #7f7f7f; text-decoration-color: #7f7f7f\">:</span><a href=\"file:///Users/aref/miniconda3/lib/python3.11/site-packages/httpx/_client.py#1740\" target=\"_blank\"><span style=\"color: #7f7f7f; text-decoration-color: #7f7f7f\">1740</span></a>\n",
       "</pre>\n"
      ],
      "text/plain": [
       "\u001b[2;36m                   \u001b[0m\u001b[2;36m \u001b[0m\u001b[34mINFO    \u001b[0m HTTP Request: \u001b[1;33mPOST\u001b[0m \u001b[4;94mhttp://127.0.0.1:8000/mcp/\u001b[0m \u001b[32m\"HTTP/1.1 202 Accepted\"\u001b[0m  \u001b]8;id=298575;file:///Users/aref/miniconda3/lib/python3.11/site-packages/httpx/_client.py\u001b\\\u001b[2m_client.py\u001b[0m\u001b]8;;\u001b\\\u001b[2m:\u001b[0m\u001b]8;id=638724;file:///Users/aref/miniconda3/lib/python3.11/site-packages/httpx/_client.py#1740\u001b\\\u001b[2m1740\u001b[0m\u001b]8;;\u001b\\\n"
      ]
     },
     "metadata": {},
     "output_type": "display_data"
    },
    {
     "data": {
      "text/html": [
       "<pre style=\"white-space:pre;overflow-x:auto;line-height:normal;font-family:Menlo,'DejaVu Sans Mono',consolas,'Courier New',monospace\"><span style=\"color: #7fbfbf; text-decoration-color: #7fbfbf\">                    </span><span style=\"color: #000080; text-decoration-color: #000080\">INFO    </span> HTTP Request: <span style=\"color: #808000; text-decoration-color: #808000; font-weight: bold\">GET</span> <span style=\"color: #0000ff; text-decoration-color: #0000ff; text-decoration: underline\">http://127.0.0.1:8000/mcp/</span> <span style=\"color: #008000; text-decoration-color: #008000\">\"HTTP/1.1 200 OK\"</span>         <a href=\"file:///Users/aref/miniconda3/lib/python3.11/site-packages/httpx/_client.py\" target=\"_blank\"><span style=\"color: #7f7f7f; text-decoration-color: #7f7f7f\">_client.py</span></a><span style=\"color: #7f7f7f; text-decoration-color: #7f7f7f\">:</span><a href=\"file:///Users/aref/miniconda3/lib/python3.11/site-packages/httpx/_client.py#1740\" target=\"_blank\"><span style=\"color: #7f7f7f; text-decoration-color: #7f7f7f\">1740</span></a>\n",
       "</pre>\n"
      ],
      "text/plain": [
       "\u001b[2;36m                   \u001b[0m\u001b[2;36m \u001b[0m\u001b[34mINFO    \u001b[0m HTTP Request: \u001b[1;33mGET\u001b[0m \u001b[4;94mhttp://127.0.0.1:8000/mcp/\u001b[0m \u001b[32m\"HTTP/1.1 200 OK\"\u001b[0m         \u001b]8;id=222861;file:///Users/aref/miniconda3/lib/python3.11/site-packages/httpx/_client.py\u001b\\\u001b[2m_client.py\u001b[0m\u001b]8;;\u001b\\\u001b[2m:\u001b[0m\u001b]8;id=334026;file:///Users/aref/miniconda3/lib/python3.11/site-packages/httpx/_client.py#1740\u001b\\\u001b[2m1740\u001b[0m\u001b]8;;\u001b\\\n"
      ]
     },
     "metadata": {},
     "output_type": "display_data"
    },
    {
     "data": {
      "text/html": [
       "<pre style=\"white-space:pre;overflow-x:auto;line-height:normal;font-family:Menlo,'DejaVu Sans Mono',consolas,'Courier New',monospace\"><span style=\"color: #7fbfbf; text-decoration-color: #7fbfbf\">                    </span><span style=\"color: #000080; text-decoration-color: #000080\">INFO    </span> HTTP Request: <span style=\"color: #808000; text-decoration-color: #808000; font-weight: bold\">POST</span> <span style=\"color: #0000ff; text-decoration-color: #0000ff; text-decoration: underline\">http://127.0.0.1:8000/mcp</span> <span style=\"color: #008000; text-decoration-color: #008000\">\"HTTP/1.1 307 Temporary </span>  <a href=\"file:///Users/aref/miniconda3/lib/python3.11/site-packages/httpx/_client.py\" target=\"_blank\"><span style=\"color: #7f7f7f; text-decoration-color: #7f7f7f\">_client.py</span></a><span style=\"color: #7f7f7f; text-decoration-color: #7f7f7f\">:</span><a href=\"file:///Users/aref/miniconda3/lib/python3.11/site-packages/httpx/_client.py#1740\" target=\"_blank\"><span style=\"color: #7f7f7f; text-decoration-color: #7f7f7f\">1740</span></a>\n",
       "<span style=\"color: #7fbfbf; text-decoration-color: #7fbfbf\">                    </span>         <span style=\"color: #008000; text-decoration-color: #008000\">Redirect\"</span>                                                              <span style=\"color: #7f7f7f; text-decoration-color: #7f7f7f\">               </span>\n",
       "</pre>\n"
      ],
      "text/plain": [
       "\u001b[2;36m                   \u001b[0m\u001b[2;36m \u001b[0m\u001b[34mINFO    \u001b[0m HTTP Request: \u001b[1;33mPOST\u001b[0m \u001b[4;94mhttp://127.0.0.1:8000/mcp\u001b[0m \u001b[32m\"HTTP/1.1 307 Temporary \u001b[0m  \u001b]8;id=179254;file:///Users/aref/miniconda3/lib/python3.11/site-packages/httpx/_client.py\u001b\\\u001b[2m_client.py\u001b[0m\u001b]8;;\u001b\\\u001b[2m:\u001b[0m\u001b]8;id=965607;file:///Users/aref/miniconda3/lib/python3.11/site-packages/httpx/_client.py#1740\u001b\\\u001b[2m1740\u001b[0m\u001b]8;;\u001b\\\n",
       "\u001b[2;36m                    \u001b[0m         \u001b[32mRedirect\"\u001b[0m                                                              \u001b[2m               \u001b[0m\n"
      ]
     },
     "metadata": {},
     "output_type": "display_data"
    },
    {
     "data": {
      "text/html": [
       "<pre style=\"white-space:pre;overflow-x:auto;line-height:normal;font-family:Menlo,'DejaVu Sans Mono',consolas,'Courier New',monospace\"><span style=\"color: #7fbfbf; text-decoration-color: #7fbfbf\">                    </span><span style=\"color: #000080; text-decoration-color: #000080\">INFO    </span> HTTP Request: <span style=\"color: #808000; text-decoration-color: #808000; font-weight: bold\">POST</span> <span style=\"color: #0000ff; text-decoration-color: #0000ff; text-decoration: underline\">http://127.0.0.1:8000/mcp/</span> <span style=\"color: #008000; text-decoration-color: #008000\">\"HTTP/1.1 200 OK\"</span>        <a href=\"file:///Users/aref/miniconda3/lib/python3.11/site-packages/httpx/_client.py\" target=\"_blank\"><span style=\"color: #7f7f7f; text-decoration-color: #7f7f7f\">_client.py</span></a><span style=\"color: #7f7f7f; text-decoration-color: #7f7f7f\">:</span><a href=\"file:///Users/aref/miniconda3/lib/python3.11/site-packages/httpx/_client.py#1740\" target=\"_blank\"><span style=\"color: #7f7f7f; text-decoration-color: #7f7f7f\">1740</span></a>\n",
       "</pre>\n"
      ],
      "text/plain": [
       "\u001b[2;36m                   \u001b[0m\u001b[2;36m \u001b[0m\u001b[34mINFO    \u001b[0m HTTP Request: \u001b[1;33mPOST\u001b[0m \u001b[4;94mhttp://127.0.0.1:8000/mcp/\u001b[0m \u001b[32m\"HTTP/1.1 200 OK\"\u001b[0m        \u001b]8;id=627057;file:///Users/aref/miniconda3/lib/python3.11/site-packages/httpx/_client.py\u001b\\\u001b[2m_client.py\u001b[0m\u001b]8;;\u001b\\\u001b[2m:\u001b[0m\u001b]8;id=366160;file:///Users/aref/miniconda3/lib/python3.11/site-packages/httpx/_client.py#1740\u001b\\\u001b[2m1740\u001b[0m\u001b]8;;\u001b\\\n"
      ]
     },
     "metadata": {},
     "output_type": "display_data"
    },
    {
     "data": {
      "text/html": [
       "<pre style=\"white-space:pre;overflow-x:auto;line-height:normal;font-family:Menlo,'DejaVu Sans Mono',consolas,'Courier New',monospace\"><span style=\"color: #7fbfbf; text-decoration-color: #7fbfbf\">                    </span><span style=\"color: #000080; text-decoration-color: #000080\">INFO    </span> Processing request of type ListToolsRequest                              <a href=\"file:///Users/aref/miniconda3/lib/python3.11/site-packages/mcp/server/lowlevel/server.py\" target=\"_blank\"><span style=\"color: #7f7f7f; text-decoration-color: #7f7f7f\">server.py</span></a><span style=\"color: #7f7f7f; text-decoration-color: #7f7f7f\">:</span><a href=\"file:///Users/aref/miniconda3/lib/python3.11/site-packages/mcp/server/lowlevel/server.py#619\" target=\"_blank\"><span style=\"color: #7f7f7f; text-decoration-color: #7f7f7f\">619</span></a>\n",
       "</pre>\n"
      ],
      "text/plain": [
       "\u001b[2;36m                   \u001b[0m\u001b[2;36m \u001b[0m\u001b[34mINFO    \u001b[0m Processing request of type ListToolsRequest                              \u001b]8;id=393538;file:///Users/aref/miniconda3/lib/python3.11/site-packages/mcp/server/lowlevel/server.py\u001b\\\u001b[2mserver.py\u001b[0m\u001b]8;;\u001b\\\u001b[2m:\u001b[0m\u001b]8;id=132535;file:///Users/aref/miniconda3/lib/python3.11/site-packages/mcp/server/lowlevel/server.py#619\u001b\\\u001b[2m619\u001b[0m\u001b]8;;\u001b\\\n"
      ]
     },
     "metadata": {},
     "output_type": "display_data"
    },
    {
     "name": "stdout",
     "output_type": "stream",
     "text": [
      "Tools: ['extract_keywords']\n"
     ]
    },
    {
     "data": {
      "text/html": [
       "<pre style=\"white-space:pre;overflow-x:auto;line-height:normal;font-family:Menlo,'DejaVu Sans Mono',consolas,'Courier New',monospace\"><span style=\"color: #7fbfbf; text-decoration-color: #7fbfbf\">                    </span><span style=\"color: #000080; text-decoration-color: #000080\">INFO    </span> HTTP Request: <span style=\"color: #808000; text-decoration-color: #808000; font-weight: bold\">POST</span> <span style=\"color: #0000ff; text-decoration-color: #0000ff; text-decoration: underline\">http://127.0.0.1:8000/mcp</span> <span style=\"color: #008000; text-decoration-color: #008000\">\"HTTP/1.1 307 Temporary </span>  <a href=\"file:///Users/aref/miniconda3/lib/python3.11/site-packages/httpx/_client.py\" target=\"_blank\"><span style=\"color: #7f7f7f; text-decoration-color: #7f7f7f\">_client.py</span></a><span style=\"color: #7f7f7f; text-decoration-color: #7f7f7f\">:</span><a href=\"file:///Users/aref/miniconda3/lib/python3.11/site-packages/httpx/_client.py#1740\" target=\"_blank\"><span style=\"color: #7f7f7f; text-decoration-color: #7f7f7f\">1740</span></a>\n",
       "<span style=\"color: #7fbfbf; text-decoration-color: #7fbfbf\">                    </span>         <span style=\"color: #008000; text-decoration-color: #008000\">Redirect\"</span>                                                              <span style=\"color: #7f7f7f; text-decoration-color: #7f7f7f\">               </span>\n",
       "</pre>\n"
      ],
      "text/plain": [
       "\u001b[2;36m                   \u001b[0m\u001b[2;36m \u001b[0m\u001b[34mINFO    \u001b[0m HTTP Request: \u001b[1;33mPOST\u001b[0m \u001b[4;94mhttp://127.0.0.1:8000/mcp\u001b[0m \u001b[32m\"HTTP/1.1 307 Temporary \u001b[0m  \u001b]8;id=21382;file:///Users/aref/miniconda3/lib/python3.11/site-packages/httpx/_client.py\u001b\\\u001b[2m_client.py\u001b[0m\u001b]8;;\u001b\\\u001b[2m:\u001b[0m\u001b]8;id=540028;file:///Users/aref/miniconda3/lib/python3.11/site-packages/httpx/_client.py#1740\u001b\\\u001b[2m1740\u001b[0m\u001b]8;;\u001b\\\n",
       "\u001b[2;36m                    \u001b[0m         \u001b[32mRedirect\"\u001b[0m                                                              \u001b[2m               \u001b[0m\n"
      ]
     },
     "metadata": {},
     "output_type": "display_data"
    },
    {
     "data": {
      "text/html": [
       "<pre style=\"white-space:pre;overflow-x:auto;line-height:normal;font-family:Menlo,'DejaVu Sans Mono',consolas,'Courier New',monospace\"><span style=\"color: #7fbfbf; text-decoration-color: #7fbfbf\">                    </span><span style=\"color: #000080; text-decoration-color: #000080\">INFO    </span> HTTP Request: <span style=\"color: #808000; text-decoration-color: #808000; font-weight: bold\">POST</span> <span style=\"color: #0000ff; text-decoration-color: #0000ff; text-decoration: underline\">http://127.0.0.1:8000/mcp/</span> <span style=\"color: #008000; text-decoration-color: #008000\">\"HTTP/1.1 200 OK\"</span>        <a href=\"file:///Users/aref/miniconda3/lib/python3.11/site-packages/httpx/_client.py\" target=\"_blank\"><span style=\"color: #7f7f7f; text-decoration-color: #7f7f7f\">_client.py</span></a><span style=\"color: #7f7f7f; text-decoration-color: #7f7f7f\">:</span><a href=\"file:///Users/aref/miniconda3/lib/python3.11/site-packages/httpx/_client.py#1740\" target=\"_blank\"><span style=\"color: #7f7f7f; text-decoration-color: #7f7f7f\">1740</span></a>\n",
       "</pre>\n"
      ],
      "text/plain": [
       "\u001b[2;36m                   \u001b[0m\u001b[2;36m \u001b[0m\u001b[34mINFO    \u001b[0m HTTP Request: \u001b[1;33mPOST\u001b[0m \u001b[4;94mhttp://127.0.0.1:8000/mcp/\u001b[0m \u001b[32m\"HTTP/1.1 200 OK\"\u001b[0m        \u001b]8;id=255160;file:///Users/aref/miniconda3/lib/python3.11/site-packages/httpx/_client.py\u001b\\\u001b[2m_client.py\u001b[0m\u001b]8;;\u001b\\\u001b[2m:\u001b[0m\u001b]8;id=903884;file:///Users/aref/miniconda3/lib/python3.11/site-packages/httpx/_client.py#1740\u001b\\\u001b[2m1740\u001b[0m\u001b]8;;\u001b\\\n"
      ]
     },
     "metadata": {},
     "output_type": "display_data"
    },
    {
     "data": {
      "text/html": [
       "<pre style=\"white-space:pre;overflow-x:auto;line-height:normal;font-family:Menlo,'DejaVu Sans Mono',consolas,'Courier New',monospace\"><span style=\"color: #7fbfbf; text-decoration-color: #7fbfbf\">                    </span><span style=\"color: #000080; text-decoration-color: #000080\">INFO    </span> Processing request of type CallToolRequest                               <a href=\"file:///Users/aref/miniconda3/lib/python3.11/site-packages/mcp/server/lowlevel/server.py\" target=\"_blank\"><span style=\"color: #7f7f7f; text-decoration-color: #7f7f7f\">server.py</span></a><span style=\"color: #7f7f7f; text-decoration-color: #7f7f7f\">:</span><a href=\"file:///Users/aref/miniconda3/lib/python3.11/site-packages/mcp/server/lowlevel/server.py#619\" target=\"_blank\"><span style=\"color: #7f7f7f; text-decoration-color: #7f7f7f\">619</span></a>\n",
       "</pre>\n"
      ],
      "text/plain": [
       "\u001b[2;36m                   \u001b[0m\u001b[2;36m \u001b[0m\u001b[34mINFO    \u001b[0m Processing request of type CallToolRequest                               \u001b]8;id=368682;file:///Users/aref/miniconda3/lib/python3.11/site-packages/mcp/server/lowlevel/server.py\u001b\\\u001b[2mserver.py\u001b[0m\u001b]8;;\u001b\\\u001b[2m:\u001b[0m\u001b]8;id=747580;file:///Users/aref/miniconda3/lib/python3.11/site-packages/mcp/server/lowlevel/server.py#619\u001b\\\u001b[2m619\u001b[0m\u001b]8;;\u001b\\\n"
      ]
     },
     "metadata": {},
     "output_type": "display_data"
    },
    {
     "data": {
      "text/html": [
       "<pre style=\"white-space:pre;overflow-x:auto;line-height:normal;font-family:Menlo,'DejaVu Sans Mono',consolas,'Courier New',monospace\"><span style=\"color: #7fbfbf; text-decoration-color: #7fbfbf\">                    </span><span style=\"color: #000080; text-decoration-color: #000080\">INFO    </span> HTTP Request: <span style=\"color: #808000; text-decoration-color: #808000; font-weight: bold\">POST</span> <span style=\"color: #0000ff; text-decoration-color: #0000ff; text-decoration: underline\">http://127.0.0.1:8000/mcp</span> <span style=\"color: #008000; text-decoration-color: #008000\">\"HTTP/1.1 307 Temporary </span>  <a href=\"file:///Users/aref/miniconda3/lib/python3.11/site-packages/httpx/_client.py\" target=\"_blank\"><span style=\"color: #7f7f7f; text-decoration-color: #7f7f7f\">_client.py</span></a><span style=\"color: #7f7f7f; text-decoration-color: #7f7f7f\">:</span><a href=\"file:///Users/aref/miniconda3/lib/python3.11/site-packages/httpx/_client.py#1740\" target=\"_blank\"><span style=\"color: #7f7f7f; text-decoration-color: #7f7f7f\">1740</span></a>\n",
       "<span style=\"color: #7fbfbf; text-decoration-color: #7fbfbf\">                    </span>         <span style=\"color: #008000; text-decoration-color: #008000\">Redirect\"</span>                                                              <span style=\"color: #7f7f7f; text-decoration-color: #7f7f7f\">               </span>\n",
       "</pre>\n"
      ],
      "text/plain": [
       "\u001b[2;36m                   \u001b[0m\u001b[2;36m \u001b[0m\u001b[34mINFO    \u001b[0m HTTP Request: \u001b[1;33mPOST\u001b[0m \u001b[4;94mhttp://127.0.0.1:8000/mcp\u001b[0m \u001b[32m\"HTTP/1.1 307 Temporary \u001b[0m  \u001b]8;id=598679;file:///Users/aref/miniconda3/lib/python3.11/site-packages/httpx/_client.py\u001b\\\u001b[2m_client.py\u001b[0m\u001b]8;;\u001b\\\u001b[2m:\u001b[0m\u001b]8;id=167297;file:///Users/aref/miniconda3/lib/python3.11/site-packages/httpx/_client.py#1740\u001b\\\u001b[2m1740\u001b[0m\u001b]8;;\u001b\\\n",
       "\u001b[2;36m                    \u001b[0m         \u001b[32mRedirect\"\u001b[0m                                                              \u001b[2m               \u001b[0m\n"
      ]
     },
     "metadata": {},
     "output_type": "display_data"
    },
    {
     "data": {
      "text/html": [
       "<pre style=\"white-space:pre;overflow-x:auto;line-height:normal;font-family:Menlo,'DejaVu Sans Mono',consolas,'Courier New',monospace\"><span style=\"color: #7fbfbf; text-decoration-color: #7fbfbf\">                    </span><span style=\"color: #000080; text-decoration-color: #000080\">INFO    </span> HTTP Request: <span style=\"color: #808000; text-decoration-color: #808000; font-weight: bold\">POST</span> <span style=\"color: #0000ff; text-decoration-color: #0000ff; text-decoration: underline\">http://127.0.0.1:8000/mcp/</span> <span style=\"color: #008000; text-decoration-color: #008000\">\"HTTP/1.1 202 Accepted\"</span>  <a href=\"file:///Users/aref/miniconda3/lib/python3.11/site-packages/httpx/_client.py\" target=\"_blank\"><span style=\"color: #7f7f7f; text-decoration-color: #7f7f7f\">_client.py</span></a><span style=\"color: #7f7f7f; text-decoration-color: #7f7f7f\">:</span><a href=\"file:///Users/aref/miniconda3/lib/python3.11/site-packages/httpx/_client.py#1740\" target=\"_blank\"><span style=\"color: #7f7f7f; text-decoration-color: #7f7f7f\">1740</span></a>\n",
       "</pre>\n"
      ],
      "text/plain": [
       "\u001b[2;36m                   \u001b[0m\u001b[2;36m \u001b[0m\u001b[34mINFO    \u001b[0m HTTP Request: \u001b[1;33mPOST\u001b[0m \u001b[4;94mhttp://127.0.0.1:8000/mcp/\u001b[0m \u001b[32m\"HTTP/1.1 202 Accepted\"\u001b[0m  \u001b]8;id=928607;file:///Users/aref/miniconda3/lib/python3.11/site-packages/httpx/_client.py\u001b\\\u001b[2m_client.py\u001b[0m\u001b]8;;\u001b\\\u001b[2m:\u001b[0m\u001b]8;id=305508;file:///Users/aref/miniconda3/lib/python3.11/site-packages/httpx/_client.py#1740\u001b\\\u001b[2m1740\u001b[0m\u001b]8;;\u001b\\\n"
      ]
     },
     "metadata": {},
     "output_type": "display_data"
    },
    {
     "name": "stdout",
     "output_type": "stream",
     "text": [
      "Keywords: diagnose, engineers, helps, issues, loki\n"
     ]
    },
    {
     "data": {
      "text/html": [
       "<pre style=\"white-space:pre;overflow-x:auto;line-height:normal;font-family:Menlo,'DejaVu Sans Mono',consolas,'Courier New',monospace\"><span style=\"color: #7fbfbf; text-decoration-color: #7fbfbf\">                    </span><span style=\"color: #000080; text-decoration-color: #000080\">INFO    </span> HTTP Request: <span style=\"color: #808000; text-decoration-color: #808000; font-weight: bold\">DELETE</span> <span style=\"color: #0000ff; text-decoration-color: #0000ff; text-decoration: underline\">http://127.0.0.1:8000/mcp</span> <span style=\"color: #008000; text-decoration-color: #008000\">\"HTTP/1.1 307 Temporary</span> <a href=\"file:///Users/aref/miniconda3/lib/python3.11/site-packages/httpx/_client.py\" target=\"_blank\"><span style=\"color: #7f7f7f; text-decoration-color: #7f7f7f\">_client.py</span></a><span style=\"color: #7f7f7f; text-decoration-color: #7f7f7f\">:</span><a href=\"file:///Users/aref/miniconda3/lib/python3.11/site-packages/httpx/_client.py#1740\" target=\"_blank\"><span style=\"color: #7f7f7f; text-decoration-color: #7f7f7f\">1740</span></a>\n",
       "<span style=\"color: #7fbfbf; text-decoration-color: #7fbfbf\">                    </span>         <span style=\"color: #008000; text-decoration-color: #008000\">Redirect\"</span>                                                              <span style=\"color: #7f7f7f; text-decoration-color: #7f7f7f\">               </span>\n",
       "</pre>\n"
      ],
      "text/plain": [
       "\u001b[2;36m                   \u001b[0m\u001b[2;36m \u001b[0m\u001b[34mINFO    \u001b[0m HTTP Request: \u001b[1;33mDELETE\u001b[0m \u001b[4;94mhttp://127.0.0.1:8000/mcp\u001b[0m \u001b[32m\"HTTP/1.1 307 Temporary\u001b[0m \u001b]8;id=837071;file:///Users/aref/miniconda3/lib/python3.11/site-packages/httpx/_client.py\u001b\\\u001b[2m_client.py\u001b[0m\u001b]8;;\u001b\\\u001b[2m:\u001b[0m\u001b]8;id=30094;file:///Users/aref/miniconda3/lib/python3.11/site-packages/httpx/_client.py#1740\u001b\\\u001b[2m1740\u001b[0m\u001b]8;;\u001b\\\n",
       "\u001b[2;36m                    \u001b[0m         \u001b[32mRedirect\"\u001b[0m                                                              \u001b[2m               \u001b[0m\n"
      ]
     },
     "metadata": {},
     "output_type": "display_data"
    },
    {
     "data": {
      "text/html": [
       "<pre style=\"white-space:pre;overflow-x:auto;line-height:normal;font-family:Menlo,'DejaVu Sans Mono',consolas,'Courier New',monospace\"><span style=\"color: #7fbfbf; text-decoration-color: #7fbfbf\">                    </span><span style=\"color: #000080; text-decoration-color: #000080\">INFO    </span> Terminating session: 64b79804521046f196d0c163581a3668           <a href=\"file:///Users/aref/miniconda3/lib/python3.11/site-packages/mcp/server/streamable_http.py\" target=\"_blank\"><span style=\"color: #7f7f7f; text-decoration-color: #7f7f7f\">streamable_http.py</span></a><span style=\"color: #7f7f7f; text-decoration-color: #7f7f7f\">:</span><a href=\"file:///Users/aref/miniconda3/lib/python3.11/site-packages/mcp/server/streamable_http.py#633\" target=\"_blank\"><span style=\"color: #7f7f7f; text-decoration-color: #7f7f7f\">633</span></a>\n",
       "</pre>\n"
      ],
      "text/plain": [
       "\u001b[2;36m                   \u001b[0m\u001b[2;36m \u001b[0m\u001b[34mINFO    \u001b[0m Terminating session: 64b79804521046f196d0c163581a3668           \u001b]8;id=920862;file:///Users/aref/miniconda3/lib/python3.11/site-packages/mcp/server/streamable_http.py\u001b\\\u001b[2mstreamable_http.py\u001b[0m\u001b]8;;\u001b\\\u001b[2m:\u001b[0m\u001b]8;id=90991;file:///Users/aref/miniconda3/lib/python3.11/site-packages/mcp/server/streamable_http.py#633\u001b\\\u001b[2m633\u001b[0m\u001b]8;;\u001b\\\n"
      ]
     },
     "metadata": {},
     "output_type": "display_data"
    },
    {
     "data": {
      "text/html": [
       "<pre style=\"white-space:pre;overflow-x:auto;line-height:normal;font-family:Menlo,'DejaVu Sans Mono',consolas,'Courier New',monospace\"><span style=\"color: #7fbfbf; text-decoration-color: #7fbfbf\">                    </span><span style=\"color: #000080; text-decoration-color: #000080\">INFO    </span> HTTP Request: <span style=\"color: #808000; text-decoration-color: #808000; font-weight: bold\">DELETE</span> <span style=\"color: #0000ff; text-decoration-color: #0000ff; text-decoration: underline\">http://127.0.0.1:8000/mcp/</span> <span style=\"color: #008000; text-decoration-color: #008000\">\"HTTP/1.1 200 OK\"</span>      <a href=\"file:///Users/aref/miniconda3/lib/python3.11/site-packages/httpx/_client.py\" target=\"_blank\"><span style=\"color: #7f7f7f; text-decoration-color: #7f7f7f\">_client.py</span></a><span style=\"color: #7f7f7f; text-decoration-color: #7f7f7f\">:</span><a href=\"file:///Users/aref/miniconda3/lib/python3.11/site-packages/httpx/_client.py#1740\" target=\"_blank\"><span style=\"color: #7f7f7f; text-decoration-color: #7f7f7f\">1740</span></a>\n",
       "</pre>\n"
      ],
      "text/plain": [
       "\u001b[2;36m                   \u001b[0m\u001b[2;36m \u001b[0m\u001b[34mINFO    \u001b[0m HTTP Request: \u001b[1;33mDELETE\u001b[0m \u001b[4;94mhttp://127.0.0.1:8000/mcp/\u001b[0m \u001b[32m\"HTTP/1.1 200 OK\"\u001b[0m      \u001b]8;id=487525;file:///Users/aref/miniconda3/lib/python3.11/site-packages/httpx/_client.py\u001b\\\u001b[2m_client.py\u001b[0m\u001b]8;;\u001b\\\u001b[2m:\u001b[0m\u001b]8;id=717535;file:///Users/aref/miniconda3/lib/python3.11/site-packages/httpx/_client.py#1740\u001b\\\u001b[2m1740\u001b[0m\u001b]8;;\u001b\\\n"
      ]
     },
     "metadata": {},
     "output_type": "display_data"
    }
   ],
   "source": [
    "import asyncio\n",
    "from collections import Counter\n",
    "import re\n",
    "from mcp import ClientSession, types\n",
    "from mcp.client.streamable_http import streamablehttp_client\n",
    "from mcp.types import TextContent\n",
    "from mcp.shared.context import RequestContext\n",
    "\n",
    "STOPWORDS = {\n",
    "    \"the\",\"a\",\"an\",\"and\",\"or\",\"but\",\"if\",\"then\",\"else\",\"for\",\"to\",\"of\",\"in\",\"on\",\"at\",\"by\",\n",
    "    \"is\",\"are\",\"was\",\"were\",\"be\",\"being\",\"been\",\"with\",\"as\",\"that\",\"this\",\"these\",\"those\",\n",
    "    \"it\",\"its\",\"from\",\"into\",\"out\",\"over\",\"under\",\"about\",\"after\",\"before\",\"than\",\"so\",\"such\",\n",
    "    \"we\",\"you\",\"they\",\"he\",\"she\",\"i\",\"me\",\"my\",\"our\",\"your\",\"their\",\"them\",\"his\",\"her\",\"their\",\n",
    "}\n",
    "\n",
    "def simple_keywords(text: str, k: int) -> str:\n",
    "    words = re.findall(r\"[a-zA-Z0-9]+\", text.lower())\n",
    "    words = [w for w in words if w not in STOPWORDS and len(w) > 1]\n",
    "    counts = Counter(words)\n",
    "    # Deterministic tie-breaker: sort by (-freq, word)\n",
    "    ranked = sorted(counts.items(), key=lambda x: (-x[1], x[0]))\n",
    "    top = [w for w, _ in ranked[:k]]\n",
    "    return \", \".join(top)\n",
    "\n",
    "async def sampling_handler(context: RequestContext, params: types.CreateMessageRequestParams) -> types.CreateMessageResult:\n",
    "    # The server sends a single user TextContent with the prompt (includes k and the TEXT)\n",
    "    prompt_text = params.messages[0].content.text\n",
    "\n",
    "    # Try to extract k from the prompt (fallback to 5)\n",
    "    m = re.search(r\"top\\s+(\\d+)\\s+keywords\", prompt_text, flags=re.I)\n",
    "    k = int(m.group(1)) if m else 5\n",
    "\n",
    "    # Extract the TEXT block\n",
    "    m2 = re.search(r\"TEXT:\\s*(.*)\\Z\", prompt_text, flags=re.I | re.S)\n",
    "    text = m2.group(1).strip() if m2 else prompt_text\n",
    "\n",
    "    output = simple_keywords(text, k)\n",
    "\n",
    "    return types.CreateMessageResult(\n",
    "        role=\"assistant\",\n",
    "        content=TextContent(type=\"text\", text=output),\n",
    "        model=\"mock-keywords-1.0\",\n",
    "    )\n",
    "\n",
    "async def main():\n",
    "    server_url = \"http://127.0.0.1:8000/mcp\"  # match your server\n",
    "    sample_text = \"Observability with Prometheus, Loki, and Tempo helps engineers diagnose issues in microservices quickly.\"\n",
    "\n",
    "    async with streamablehttp_client(server_url) as (read, write, *_):\n",
    "        async with ClientSession(read, write, sampling_callback=sampling_handler) as session:\n",
    "            await session.initialize()\n",
    "\n",
    "            tools = await session.list_tools()\n",
    "            print(\"Tools:\", [t.name for t in tools.tools])\n",
    "\n",
    "            result = await session.call_tool(\"extract_keywords\", {\"text\": sample_text, \"k\": 5})\n",
    "            print(\"Keywords:\", result.content[0].text)\n",
    "\n",
    "await main()\n"
   ]
  },
  {
   "cell_type": "code",
   "execution_count": null,
   "id": "58e0a53d-be14-4a38-bec0-a0ef92455d8a",
   "metadata": {},
   "outputs": [],
   "source": []
  }
 ],
 "metadata": {
  "kernelspec": {
   "display_name": "Python 3 (ipykernel)",
   "language": "python",
   "name": "python3"
  },
  "language_info": {
   "codemirror_mode": {
    "name": "ipython",
    "version": 3
   },
   "file_extension": ".py",
   "mimetype": "text/x-python",
   "name": "python",
   "nbconvert_exporter": "python",
   "pygments_lexer": "ipython3",
   "version": "3.11.5"
  }
 },
 "nbformat": 4,
 "nbformat_minor": 5
}
